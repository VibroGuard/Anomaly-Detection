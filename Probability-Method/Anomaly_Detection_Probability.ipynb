{
  "nbformat": 4,
  "nbformat_minor": 0,
  "metadata": {
    "colab": {
      "provenance": [],
      "authorship_tag": "ABX9TyOEffOYTo2uZN22g3tUCxpz",
      "include_colab_link": true
    },
    "kernelspec": {
      "name": "python3",
      "display_name": "Python 3"
    },
    "language_info": {
      "name": "python"
    }
  },
  "cells": [
    {
      "cell_type": "markdown",
      "metadata": {
        "id": "view-in-github",
        "colab_type": "text"
      },
      "source": [
        "<a href=\"https://colab.research.google.com/github/VibroGuard/Anomaly-Detection/blob/main/Probability-Method/Anomaly_Detection_Probability.ipynb\" target=\"_parent\"><img src=\"https://colab.research.google.com/assets/colab-badge.svg\" alt=\"Open In Colab\"/></a>"
      ]
    },
    {
      "cell_type": "code",
      "execution_count": 1,
      "metadata": {
        "id": "rXjSlhPImuPz"
      },
      "outputs": [],
      "source": [
        "import numpy as np\n",
        "import matplotlib.pyplot as plt"
      ]
    },
    {
      "cell_type": "code",
      "source": [
        "def estimate_gaussian(X):\n",
        "    \"\"\"\n",
        "    Calculates mean and variance of all features\n",
        "    in the dataset.\n",
        "\n",
        "    In this case, the features would be the frequency components.\n",
        "\n",
        "    Args:\n",
        "        X (ndarray): (m, n) Data matrix\n",
        "\n",
        "    Returns:\n",
        "        mu (ndarray): (n,) Mean of all features\n",
        "        var (ndarray): (n,) Variance of all features\n",
        "    \"\"\"\n",
        "\n",
        "    m, n = X.shape\n",
        "\n",
        "    mu = np.sum(X, axis=0) / m\n",
        "    var = np.sum((X - mu) ** 2, axis=0) / m\n",
        "\n",
        "    return mu, var"
      ],
      "metadata": {
        "id": "D6cAxH5inAVx"
      },
      "execution_count": 2,
      "outputs": []
    },
    {
      "cell_type": "code",
      "source": [
        "def multivariate_gaussian(X, mu, var):\n",
        "    \"\"\"\n",
        "    Computes the probability density function of the examples X\n",
        "    under the multivariate gaussian distribution with parameters mu and var.\n",
        "    If var is a matrix, it is treated as the covariance matrix.\n",
        "    If var is a vector, it is treated as the var values of the variances\n",
        "    in each dimension (a diagonal covariance matrix).\n",
        "    \"\"\"\n",
        "\n",
        "    k = len(mu)\n",
        "\n",
        "    if var.ndim == 1:\n",
        "        var = np.diag(var)\n",
        "\n",
        "    X = X - mu\n",
        "    p = (2 * np.pi) ** (-k / 2) * np.linalg.det(var) ** (-0.5) * \\\n",
        "        np.exp(-0.5 * np.sum(np.matmul(X, np.linalg.pinv(var)) * X, axis=1))\n",
        "\n",
        "    return p"
      ],
      "metadata": {
        "id": "4LPKVTNDnqOq"
      },
      "execution_count": 3,
      "outputs": []
    },
    {
      "cell_type": "code",
      "source": [],
      "metadata": {
        "id": "i24e0JC6oGWN"
      },
      "execution_count": null,
      "outputs": []
    }
  ]
}